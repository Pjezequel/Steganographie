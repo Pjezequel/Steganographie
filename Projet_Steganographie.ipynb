{
 "cells": [
  {
   "cell_type": "markdown",
   "metadata": {},
   "source": [
    "# <center><font face=\"arial\" size=\"5\" color=#0101DF>NUMERIQUE ET SCIENCES INFORMATIQUES 1ère NSI</font></center>"
   ]
  },
  {
   "cell_type": "markdown",
   "metadata": {},
   "source": [
    "## <font color=#013ADF>Séquence N° 2 : projet STEGANOGRAPHIE</font>"
   ]
  },
  {
   "cell_type": "markdown",
   "metadata": {},
   "source": [
    "**Problématique** :\n",
    "\n",
    "Celle-ci est décrite sur le document de vision."
   ]
  },
  {
   "cell_type": "markdown",
   "metadata": {},
   "source": [
    "**Programme de décodage (lecture du message dans l'image)**"
   ]
  },
  {
   "cell_type": "code",
   "execution_count": 2,
   "metadata": {},
   "outputs": [
    {
     "name": "stdout",
     "output_type": "stream",
     "text": [
      "Indiquer le nom de l'image dans laquelle le message est caché (nom + extension) : Stallman.png\n",
      "Indiquer le nom du fichier dans lequel écrire le message (nom + extension) : lecture.txt\n",
      "Traitement terminé !\n"
     ]
    }
   ],
   "source": [
    "#!/usr/bin/env python3\n",
    "# -*- coding: utf-8 -*-\n",
    "\"\"\"\n",
    "@author: Gaspieux\n",
    "\n",
    "Stéganographie : on cache une message se terminant par le caractère #\n",
    "dans une image.\n",
    "Le principe est le suivant : Comme l'oeil humain est peu sensible à une légère\n",
    "nuance de couleur, on modifie éventuellement un bit de couleurs pour coder\n",
    "le message.\n",
    "Pour coder un 0, la composante de couleur qui le code doit avoir une valeur paire\n",
    "Pour coder un 1, la composante de couleur qui la code doit avoir une valeur impaire\n",
    "On vient ajuster la valeur si besoin.\n",
    "Ici le programme de lecture du message dans l'image\n",
    "\"\"\"\n",
    "\n",
    "# importation de librairie\n",
    "import sys\n",
    "from PIL import Image\n",
    "\n",
    "\n",
    "def ecriture_fichier(nom_fichier:str,message:str)->None:\n",
    "    \"\"\"\n",
    "    Procédure d'écriture du message\n",
    "    sur le disque, dans le répertoire courant\n",
    "    \"\"\"\n",
    "    with open(nom_fichier, 'w', encoding=\"utf-8\") as fichier_texte:\n",
    "        fichier_texte.write(message)\n",
    "\n",
    "def recup_couleurs_image(image_file)->list:\n",
    "    \"\"\"\n",
    "    Cette fonction prend en entrée le nom de l'image \n",
    "    et renvoie une liste qui contient la valeur des \n",
    "    composantes rouge, vert et bleu de chaque pixel\n",
    "    de l'image en décimal.\n",
    "    \"\"\"\n",
    "    try:\n",
    "        nom_image= Image.open(image_file)\n",
    "    except:\n",
    "        print ('Erreur sur ouverture du fichier ',image_file)\n",
    "        sys.exit(1)\n",
    "    largeur,hauteur=nom_image.size\n",
    "    # balayage de l'image colonne par colonne de gauche à droite\n",
    "    liste=[]\n",
    "    for i in range(0,largeur):\n",
    "        for j in range(0,hauteur):\n",
    "            r,g,b = nom_image.getpixel((i,j))\n",
    "            liste.append(r)\n",
    "            liste.append(g)\n",
    "            liste.append(b)\n",
    "    nom_image.close()\n",
    "    return liste\n",
    "\n",
    "def decode_message(couleurs:list)->str:\n",
    "    \"\"\"\n",
    "    lire les pixels de l'image si pair 0 sinon impair 1\n",
    "    et renvoie le texte sans le caractère final #\n",
    "    \"\"\"\n",
    "    text=\"\"\n",
    "    chaine=\"\"\n",
    "    cpt=0\n",
    "    for i in couleurs:\n",
    "        if i%2==0:\n",
    "            chaine+='0'\n",
    "        else:\n",
    "            chaine+='1'\n",
    "        cpt+=1\n",
    "        if cpt==8:\n",
    "            cpt=0\n",
    "            nb_dec=0\n",
    "            for power, digit in enumerate(chaine[::-1]):\n",
    "                nb_dec+=int(digit)*(2**power)\n",
    "            caractere=chr(nb_dec)\n",
    "            if caractere=='#':\n",
    "                return text\n",
    "            text+=caractere\n",
    "            chaine=\"\"\n",
    "\n",
    "#ouverture du fichier image\n",
    "fichier_image = input('Indiquer le nom de l\\'image dans laquelle le message est caché (nom + extension) : ')\n",
    "fichier_texte=input('Indiquer le nom du fichier dans lequel écrire le message (nom + extension) : ')\n",
    "# création d'une liste des couleurs des pixels de l'image\n",
    "couleurs=recup_couleurs_image(fichier_image)\n",
    "message_decode=decode_message(couleurs)\n",
    "ecriture_fichier(fichier_texte,message_decode)\n",
    "print(\"Traitement terminé !\")"
   ]
  },
  {
   "cell_type": "markdown",
   "metadata": {},
   "source": [
    "Un algorithme \" gros grain\" du programme ci-dessus serait de la forme :\n",
    "\n",
    "- Ouvrir le fichier image qui contient le message ;\n",
    "\n",
    "- Lire les composantes de couleurs des pixels de l'image ;\n",
    "\n",
    "- En déduire la succession des bits (0 ou 1) ;\n",
    "\n",
    "- Regrouper les bits par octet pour retrouver le caractère codé ;\n",
    "\n",
    "- Arrêter le traitement si le caractère reconnu est \"#\" ;\n",
    "\n",
    "- Écrire le message dans un fichier texte."
   ]
  },
  {
   "cell_type": "markdown",
   "metadata": {},
   "source": [
    "<div class=\"alert alert-warning\">\n",
    "<img src=\"Images/CR.png\" alt=\"logo CR\" width=5% align=right>\n",
    "\n",
    "On vous demande d'étudier le programme pour comprendre comment le message est reconstitué. On détaillera plus particulièrement la fonction \"decode_message\" en traçant son algorithme. (**voir remarque en bas du document**)\n",
    "</div>"
   ]
  },
  {
   "cell_type": "markdown",
   "metadata": {},
   "source": [
    "**Voilà ce qui a pu être sauvé du programme de codage.**"
   ]
  },
  {
   "cell_type": "code",
   "execution_count": 1,
   "metadata": {},
   "outputs": [
    {
     "name": "stdout",
     "output_type": "stream",
     "text": [
      "Indiquer le nom de l'image dans laquelle on cache le message (nom + extension) : Stallman.png\n",
      "Indiquer le nom du fichier dans lequel lire le message (nom + extension) : message.txt\n",
      "Traitement terminé !\n"
     ]
    }
   ],
   "source": [
    "from Codes.Alexandre import creation_image, recup_couleurs_image\n",
    "from Codes.Malo import conv_message_vers_binaire, rgb\n",
    "from Codes.Pierre_J import encode_message\n",
    "from Codes.Pierre_M import lecture_fichier, infos_image\n",
    "from Codes.Heremanu import creer_nom_sauvegarde\n",
    "#Programme principal\n",
    "fichier_image = input('Indiquer le nom de l\\'image dans laquelle on cache le message (nom + extension) : ')\n",
    "fichier_texte=input('Indiquer le nom du fichier dans lequel lire le message (nom + extension) : ')\n",
    "# Modifie le mode du fichier de façon à ce qu'il soit en RGB\n",
    "rgb(fichier_image)\n",
    "# Récupère les caractéristiques de l'image originale\n",
    "carac_image=infos_image(fichier_image)\n",
    "# Création du nom de fichier de sauvegarde\n",
    "fichier_sauvegarde=creer_nom_sauvegarde(fichier_image, carac_image)\n",
    "# création d'une liste des couleurs des pixels de l'image\n",
    "couleurs=recup_couleurs_image(fichier_image)\n",
    "# Texte à cacher dans l'image. le caractère # indique que le message est terminé\n",
    "# Ce message est dans un fichier texte appelé message.txt\n",
    "texte=lecture_fichier(fichier_texte)\n",
    "# création d'un chaine de bits à écrire sur l'image\n",
    "chaine_binaire=conv_message_vers_binaire(texte)\n",
    "\n",
    "if len(chaine_binaire)>len(couleurs):\n",
    "    print(\"Le message est trop long pour l'image utilisée\")\n",
    "    \n",
    "else:\n",
    "    couleurs_mod=encode_message(chaine_binaire,couleurs)\n",
    "    creation_image(carac_image, couleurs_mod, fichier_sauvegarde)\n",
    "    print(\"Traitement terminé !\")"
   ]
  },
  {
   "cell_type": "markdown",
   "metadata": {},
   "source": [
    "# carac_image"
   ]
  },
  {
   "cell_type": "markdown",
   "metadata": {},
   "source": [
    "À la lecture du programme partiel de codage et d'après ce que nous connaissons de l'algorithme de décodage, nous pouvons déduire qu'il faut :\n",
    "\n",
    "Écrire le message à cacher dans un fichier texte avec un éditeur de texte. Finir son écriture par le caractère # ;\n",
    "\n",
    "Nous voyons également des appels à des fonctions qui d'après leurs noms, devraient réaliser les tâches précitées."
   ]
  },
  {
   "cell_type": "code",
   "execution_count": 1,
   "metadata": {},
   "outputs": [
    {
     "name": "stdout",
     "output_type": "stream",
     "text": [
      "**********************************************************************\n",
      "File \"__main__\", line 7, in __main__.infos_image\n",
      "Failed example:\n",
      "    infos_image(\"image.png\")\n",
      "Expected:\n",
      "    (772, 749, 'RGBA', 'PNG')\n",
      "Got:\n",
      "    Erreur dans le traitement de l'image image.png\n",
      "**********************************************************************\n",
      "1 items had failures:\n",
      "   1 of   1 in __main__.infos_image\n",
      "***Test Failed*** 1 failures.\n"
     ]
    },
    {
     "ename": "KeyboardInterrupt",
     "evalue": "Interrupted by user",
     "output_type": "error",
     "traceback": [
      "\u001b[0;31m---------------------------------------------------------------------------\u001b[0m",
      "\u001b[0;31mKeyboardInterrupt\u001b[0m                         Traceback (most recent call last)",
      "\u001b[0;32m<ipython-input-1-61840e6df06b>\u001b[0m in \u001b[0;36m<module>\u001b[0;34m\u001b[0m\n\u001b[1;32m     18\u001b[0m     \u001b[0;32mfrom\u001b[0m \u001b[0mdoctest\u001b[0m \u001b[0;32mimport\u001b[0m \u001b[0mtestmod\u001b[0m\u001b[0;34m\u001b[0m\u001b[0;34m\u001b[0m\u001b[0m\n\u001b[1;32m     19\u001b[0m     \u001b[0mtestmod\u001b[0m\u001b[0;34m(\u001b[0m\u001b[0;34m)\u001b[0m\u001b[0;34m\u001b[0m\u001b[0;34m\u001b[0m\u001b[0m\n\u001b[0;32m---> 20\u001b[0;31m     \u001b[0mnomimage\u001b[0m\u001b[0;34m=\u001b[0m\u001b[0minput\u001b[0m\u001b[0;34m(\u001b[0m\u001b[0;34m\"Donner le nom de votre fichier image avec l'extension \"\u001b[0m\u001b[0;34m)\u001b[0m\u001b[0;34m\u001b[0m\u001b[0;34m\u001b[0m\u001b[0m\n\u001b[0m\u001b[1;32m     21\u001b[0m     \u001b[0mprint\u001b[0m\u001b[0;34m(\u001b[0m\u001b[0minfos_image\u001b[0m\u001b[0;34m(\u001b[0m\u001b[0mnomimage\u001b[0m\u001b[0;34m)\u001b[0m\u001b[0;34m)\u001b[0m\u001b[0;34m\u001b[0m\u001b[0;34m\u001b[0m\u001b[0m\n",
      "\u001b[0;32m/opt/tljh/user/lib/python3.6/site-packages/ipykernel/kernelbase.py\u001b[0m in \u001b[0;36mraw_input\u001b[0;34m(self, prompt)\u001b[0m\n\u001b[1;32m    861\u001b[0m             \u001b[0mself\u001b[0m\u001b[0;34m.\u001b[0m\u001b[0m_parent_ident\u001b[0m\u001b[0;34m,\u001b[0m\u001b[0;34m\u001b[0m\u001b[0;34m\u001b[0m\u001b[0m\n\u001b[1;32m    862\u001b[0m             \u001b[0mself\u001b[0m\u001b[0;34m.\u001b[0m\u001b[0m_parent_header\u001b[0m\u001b[0;34m,\u001b[0m\u001b[0;34m\u001b[0m\u001b[0;34m\u001b[0m\u001b[0m\n\u001b[0;32m--> 863\u001b[0;31m             \u001b[0mpassword\u001b[0m\u001b[0;34m=\u001b[0m\u001b[0;32mFalse\u001b[0m\u001b[0;34m,\u001b[0m\u001b[0;34m\u001b[0m\u001b[0;34m\u001b[0m\u001b[0m\n\u001b[0m\u001b[1;32m    864\u001b[0m         )\n\u001b[1;32m    865\u001b[0m \u001b[0;34m\u001b[0m\u001b[0m\n",
      "\u001b[0;32m/opt/tljh/user/lib/python3.6/site-packages/ipykernel/kernelbase.py\u001b[0m in \u001b[0;36m_input_request\u001b[0;34m(self, prompt, ident, parent, password)\u001b[0m\n\u001b[1;32m    902\u001b[0m             \u001b[0;32mexcept\u001b[0m \u001b[0mKeyboardInterrupt\u001b[0m\u001b[0;34m:\u001b[0m\u001b[0;34m\u001b[0m\u001b[0;34m\u001b[0m\u001b[0m\n\u001b[1;32m    903\u001b[0m                 \u001b[0;31m# re-raise KeyboardInterrupt, to truncate traceback\u001b[0m\u001b[0;34m\u001b[0m\u001b[0;34m\u001b[0m\u001b[0;34m\u001b[0m\u001b[0m\n\u001b[0;32m--> 904\u001b[0;31m                 \u001b[0;32mraise\u001b[0m \u001b[0mKeyboardInterrupt\u001b[0m\u001b[0;34m(\u001b[0m\u001b[0;34m\"Interrupted by user\"\u001b[0m\u001b[0;34m)\u001b[0m \u001b[0;32mfrom\u001b[0m \u001b[0;32mNone\u001b[0m\u001b[0;34m\u001b[0m\u001b[0;34m\u001b[0m\u001b[0m\n\u001b[0m\u001b[1;32m    905\u001b[0m             \u001b[0;32mexcept\u001b[0m \u001b[0mException\u001b[0m \u001b[0;32mas\u001b[0m \u001b[0me\u001b[0m\u001b[0;34m:\u001b[0m\u001b[0;34m\u001b[0m\u001b[0;34m\u001b[0m\u001b[0m\n\u001b[1;32m    906\u001b[0m                 \u001b[0mself\u001b[0m\u001b[0;34m.\u001b[0m\u001b[0mlog\u001b[0m\u001b[0;34m.\u001b[0m\u001b[0mwarning\u001b[0m\u001b[0;34m(\u001b[0m\u001b[0;34m\"Invalid Message:\"\u001b[0m\u001b[0;34m,\u001b[0m \u001b[0mexc_info\u001b[0m\u001b[0;34m=\u001b[0m\u001b[0;32mTrue\u001b[0m\u001b[0;34m)\u001b[0m\u001b[0;34m\u001b[0m\u001b[0;34m\u001b[0m\u001b[0m\n",
      "\u001b[0;31mKeyboardInterrupt\u001b[0m: Interrupted by user"
     ]
    }
   ],
   "source": [
    "from PIL import Image\n",
    "def infos_image(image_file)->tuple:\n",
    "    \"\"\"\n",
    "    Renvoie les dimensions, le format (e.g. PNG)\n",
    "    et le mode (e.g. RGB) de l'image\n",
    "    originale si elle est trouvée !\n",
    "    >>> infos_image(\"image.png\")\n",
    "    (772, 749, 'RGBA', 'PNG')\n",
    "    \"\"\"\n",
    "    try:\n",
    "        image = Image.open(image_file)\n",
    "        imageproperties=((image.size), image.mode, image.format)\n",
    "        return imageproperties\n",
    "    except: \n",
    "        print(\"Erreur dans le traitement de l'image\",image_file)\n",
    "\n",
    "if __name__==\"__main__\":\n",
    "    from doctest import testmod\n",
    "    testmod()\n",
    "    nomimage=input(\"Donner le nom de votre fichier image avec l'extension \")\n",
    "    print(infos_image(nomimage))"
   ]
  },
  {
   "cell_type": "code",
   "execution_count": 3,
   "metadata": {},
   "outputs": [
    {
     "name": "stdout",
     "output_type": "stream",
     "text": [
      "Erreur sur ouverture du fichier  Stallman.png\n"
     ]
    },
    {
     "ename": "UnboundLocalError",
     "evalue": "local variable 'nom_image' referenced before assignment",
     "output_type": "error",
     "traceback": [
      "\u001b[0;31m---------------------------------------------------------------------------\u001b[0m",
      "\u001b[0;31mUnboundLocalError\u001b[0m                         Traceback (most recent call last)",
      "\u001b[0;32m<ipython-input-3-7aa8b4c7a51b>\u001b[0m in \u001b[0;36m<module>\u001b[0;34m\u001b[0m\n\u001b[1;32m     20\u001b[0m     \u001b[0mnom_image\u001b[0m\u001b[0;34m.\u001b[0m\u001b[0mclose\u001b[0m\u001b[0;34m(\u001b[0m\u001b[0;34m)\u001b[0m\u001b[0;34m\u001b[0m\u001b[0;34m\u001b[0m\u001b[0m\n\u001b[1;32m     21\u001b[0m     \u001b[0;32mreturn\u001b[0m \u001b[0mliste\u001b[0m\u001b[0;34m\u001b[0m\u001b[0;34m\u001b[0m\u001b[0m\n\u001b[0;32m---> 22\u001b[0;31m \u001b[0mrecup_couleurs_image\u001b[0m\u001b[0;34m(\u001b[0m\u001b[0;34m\"Stallman.png\"\u001b[0m\u001b[0;34m)\u001b[0m\u001b[0;34m\u001b[0m\u001b[0;34m\u001b[0m\u001b[0m\n\u001b[0m",
      "\u001b[0;32m<ipython-input-3-7aa8b4c7a51b>\u001b[0m in \u001b[0;36mrecup_couleurs_image\u001b[0;34m(image_file)\u001b[0m\n\u001b[1;32m      9\u001b[0m     \u001b[0;32mexcept\u001b[0m \u001b[0;34m:\u001b[0m\u001b[0;34m\u001b[0m\u001b[0;34m\u001b[0m\u001b[0m\n\u001b[1;32m     10\u001b[0m         \u001b[0mprint\u001b[0m \u001b[0;34m(\u001b[0m\u001b[0;34m'Erreur sur ouverture du fichier '\u001b[0m\u001b[0;34m,\u001b[0m\u001b[0mimage_file\u001b[0m\u001b[0;34m)\u001b[0m\u001b[0;34m\u001b[0m\u001b[0;34m\u001b[0m\u001b[0m\n\u001b[0;32m---> 11\u001b[0;31m     \u001b[0mlargeur\u001b[0m\u001b[0;34m,\u001b[0m\u001b[0mhauteur\u001b[0m\u001b[0;34m=\u001b[0m\u001b[0mnom_image\u001b[0m\u001b[0;34m.\u001b[0m\u001b[0msize\u001b[0m\u001b[0;34m\u001b[0m\u001b[0;34m\u001b[0m\u001b[0m\n\u001b[0m\u001b[1;32m     12\u001b[0m     \u001b[0;31m# balayage de l'image colonne par colonne de gauche à droite\u001b[0m\u001b[0;34m\u001b[0m\u001b[0;34m\u001b[0m\u001b[0;34m\u001b[0m\u001b[0m\n\u001b[1;32m     13\u001b[0m     \u001b[0mliste\u001b[0m\u001b[0;34m=\u001b[0m\u001b[0;34m[\u001b[0m\u001b[0;34m]\u001b[0m\u001b[0;34m\u001b[0m\u001b[0;34m\u001b[0m\u001b[0m\n",
      "\u001b[0;31mUnboundLocalError\u001b[0m: local variable 'nom_image' referenced before assignment"
     ]
    }
   ],
   "source": [
    "def recup_couleurs_image(image_file)->list:\n",
    "    \"\"\"\n",
    "    Cette fonction prend en entrée le nom de l'image et\n",
    "    renvoie une liste qui contient la valeur des composantes\n",
    "    rouge, verte et bleue de chaque pixel de l'image en décimal.\n",
    "    \"\"\"\n",
    "    try:\n",
    "        nom_image= Image.open(image_file)\n",
    "    except :\n",
    "        print ('Erreur sur ouverture du fichier ',image_file)\n",
    "    largeur,hauteur=nom_image.size\n",
    "    # balayage de l'image colonne par colonne de gauche à droite\n",
    "    liste=[]\n",
    "    for i in range(0,largeur):\n",
    "        for j in range(0,hauteur):\n",
    "            r,g,b = nom_image.getpixel((i,j))\n",
    "            liste.append(r)\n",
    "            liste.append(g)\n",
    "            liste.append(b)\n",
    "    nom_image.close()\n",
    "    return liste\n",
    "recup_couleurs_image(\"Stallman.png\")"
   ]
  },
  {
   "cell_type": "code",
   "execution_count": 7,
   "metadata": {},
   "outputs": [
    {
     "data": {
      "text/plain": [
       "\"àqÿàp\\x12\\x1f\\x8c\\\\JBInHÜn6\\x07\\x1eFô\\x88í\\x1e'm±'i\\x1c:%1ÅÚö\\xa0Ýj \\x9a-%Ñß\\x08¢\\tU%mªÔ\\xad8ìx\\x03\\x8f\\x89ã\\x92OæÖv\\x1fã\\x89ÙÉ$H\\x10\\\\\\x92AÂU[m¶ñø©%mü\\x9cqã\\x8e\\x07\\x1cqÇn¯í$·\\x89U91'\\x1bj¶ÕR¶Õmª\\xa0=\\x92¥mrb^%\\x01øçp\\x01Ç~<¶¥\""
      ]
     },
     "execution_count": 7,
     "metadata": {},
     "output_type": "execute_result"
    }
   ],
   "source": [
    "def lecture_fichier(nom_fichier)->str:\n",
    "    \"\"\"\n",
    "    Fonction réalisant la lecture du fichier\n",
    "    texte à écrire sur une image\n",
    "    >>> lecture_fichier(\"texte.txt\")\n",
    "    'Ceci sera écrit à la fin de mon fichier !'\n",
    "    \"\"\"\n",
    "    try:\n",
    "        with open(nom_fichier, 'r', encoding=\"utf-8\") as fichier_texte:\n",
    "            lignes_texte=fichier_texte.read()\n",
    "            return lignes_texte\n",
    "    except: \n",
    "        print(\"Erreur dans le traitement du fichier\", nom_fichier)\n",
    "        \n",
    "if __name__==\"__main__\":\n",
    "    from doctest import testmod\n",
    "    testmod()\n",
    "    print(lecture_fichier(str(input(\"Donner le nom du fichier \"))))"
   ]
  },
  {
   "cell_type": "code",
   "execution_count": null,
   "metadata": {},
   "outputs": [],
   "source": [
    "def conv_message_vers_binaire(texte:str)->str:\n",
    "    \"\"\"\n",
    "    Cette fonction prend en entrée, le texte qui doit être caché dans l'image\n",
    "    et renvoie une chaine de caractère qui contient le code binaire représentant\n",
    "    chaque caractère du message à cacher sur 8 bits.\n",
    "    >>> conv_message_vers_binaire(\"coucou les nullos\")\n",
    "    '0110001101101111011101010110001101101111011101010010000001101100011001010111001100100000011011100111010101101100011011000110111101110011'\n",
    "    \"\"\"\n",
    "    assert type(texte) == str , ' L’entrée doit être un string '\n",
    "    binMsg=''\n",
    "    for carac in texte:\n",
    "        temp=(bin(ord(carac))[2:])\n",
    "        binMsg+=temp.zfill(8)\n",
    "    return binMsg\n",
    "\n",
    "if __name__==\"__main__\": \n",
    "    from doctest import testmod \n",
    "    testmod() \n",
    "    print(conv_message_vers_binaire(\"coucou les nullos\"))"
   ]
  },
  {
   "cell_type": "code",
   "execution_count": 32,
   "metadata": {},
   "outputs": [
    {
     "name": "stdout",
     "output_type": "stream",
     "text": [
      "[0, 255, 122, 122]\n"
     ]
    }
   ],
   "source": [
    "def encode_message(msg:str, coul:list)->list:\n",
    "    \"\"\"\n",
    "    Cette fonction modifie les valeurs (couleurs) de\n",
    "    la liste passée en paramètre selon le procédé suivant :\n",
    "    si le nombre représentant la couleur est pair et le code binaire\n",
    "    à écrire est 1, on doit rendre le nombre représentant la couleur impair.\n",
    "    De même si le code binaire à écrire est 0 et que le nombre représentant\n",
    "    la couleur est impair, on doit rendre le nombre représentant la couleur pair.\n",
    "    >>> print(encode_message(\"0100\",[1,254,122,123]))\n",
    "    [0, 255, 122, 122]\n",
    "    \"\"\"\n",
    "    assert len(msg)<=len(coul), \"Le binaire du message doit être plus court que le nombre de couleurs.\"\n",
    "    for bn in msg:\n",
    "        assert bn==\"0\"or bn==\"1\", \"Le message doit être en binaire\"\n",
    "    lst=[]\n",
    "    \n",
    "    for i in range(len(msg)):\n",
    "        if msg[i]==\"0\" and coul[i]%2==1:\n",
    "            lst.append(coul[i]-1)\n",
    "        elif msg[i]==\"1\" and coul[i]%2==0:\n",
    "            lst.append(coul[i]+1)\n",
    "        else:\n",
    "            lst.append(coul[i])\n",
    "    return lst\n",
    "\n",
    "if __name__==\"__main__\":\n",
    "    from doctest import testmod\n",
    "    testmod()\n",
    "    #assert(encode_message(\"0100\",[1,254,122,123]))==[0, 255, 122, 122]\n",
    "    print(encode_message(\"0100\",[1,254,122,123]))"
   ]
  },
  {
   "cell_type": "code",
   "execution_count": null,
   "metadata": {},
   "outputs": [],
   "source": [
    "def creation_image(caract:tuple, coul:list, image_file)->None:\n",
    "    \"\"\"\n",
    "    Cette procédure crée une image ayant les mêmes\n",
    "    caractéristiques que l'orignal mais avec les\n",
    "    nouvelles couleurs, puis la sauvegarde avec\n",
    "    un nom passé en argument\n",
    "    \"\"\"\n",
    "    assert len(caract)==2, \"la liste placé en arguments n'est pas une liste sortie de \\\"infos_images\\\"\"\n",
    "    img_modifie=Image.new(caract[2], (caract[0][0], caract[0][1]))\n",
    "    for x in range(image.height):\n",
    "            for y in range(0, image.width*3, 3):          \n",
    "                img_modifie.putpixel((x, y), (coul[y], coul[y+1], coul[y+2]))\n",
    "    img_modifie.save(image_file)"
   ]
  },
  {
   "cell_type": "code",
   "execution_count": null,
   "metadata": {},
   "outputs": [],
   "source": [
    "def creer_nom_sauvegarde(nom:str, caract:tuple)->str:\n",
    "    \"\"\"\n",
    "    Fonction qui génère un nom pour la future image\n",
    "    à sauvegarder, en relation avec le nom initial\n",
    "    \"\"\"\n",
    "    assert type(nom)==str, \"Il n'y a pas de nom pour le fichier\"\n",
    "    new_file = nom.replace(\".\"+caract[1], \"1.\"+caract[1])\n",
    "    return new_file"
   ]
  },
  {
   "cell_type": "markdown",
   "metadata": {},
   "source": [
    "<div class=\"alert alert-warning\">\n",
    "<img src=\"Images/CR.png\" alt=\"logo CR\" width=5% align=right>\n",
    "\n",
    "Compléter les fonctions fournies de manière à reconstituer l'application et pouvoir coder et décoder les messages cachés dans les images.\n",
    "</div>"
   ]
  }
 ],
 "metadata": {
  "celltoolbar": "Visualize",
  "kernelspec": {
   "display_name": "Python 3",
   "language": "python",
   "name": "python3"
  },
  "language_info": {
   "codemirror_mode": {
    "name": "ipython",
    "version": 3
   },
   "file_extension": ".py",
   "mimetype": "text/x-python",
   "name": "python",
   "nbconvert_exporter": "python",
   "pygments_lexer": "ipython3",
   "version": "3.6.10"
  },
  "varInspector": {
   "cols": {
    "lenName": 16,
    "lenType": 16,
    "lenVar": 40
   },
   "kernels_config": {
    "python": {
     "delete_cmd_postfix": "",
     "delete_cmd_prefix": "del ",
     "library": "var_list.py",
     "varRefreshCmd": "print(var_dic_list())"
    },
    "r": {
     "delete_cmd_postfix": ") ",
     "delete_cmd_prefix": "rm(",
     "library": "var_list.r",
     "varRefreshCmd": "cat(var_dic_list()) "
    }
   },
   "types_to_exclude": [
    "module",
    "function",
    "builtin_function_or_method",
    "instance",
    "_Feature"
   ],
   "window_display": false
  }
 },
 "nbformat": 4,
 "nbformat_minor": 2
}
